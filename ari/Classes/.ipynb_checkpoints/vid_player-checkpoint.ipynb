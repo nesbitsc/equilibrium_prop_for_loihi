{
 "cells": [
  {
   "cell_type": "code",
   "execution_count": 11,
   "metadata": {
    "collapsed": false
   },
   "outputs": [],
   "source": [
    "import numpy as np\n",
    "from matplotlib import pyplot as plt\n",
    "from matplotlib import animation\n",
    "\n",
    "data = np.load(\"/home/ajherman/Desktop/Neural/output/dict.npy\")[:,:,:,:,:25]\n",
    "\n",
    "fig = plt.figure()\n",
    "ax = [[None for i in range(5)] for j in range(5)]\n",
    "for i in range(5):\n",
    "    for j in range(5):\n",
    "        ax[i][j] = fig.add_subplot(5,5,5*i+j+1)\n",
    "image_grid = [ax[i][j].imshow(np.zeros((16,16,3))) for i in range(5) for j in range(5)] \n",
    "\n",
    "def initAnimation():\n",
    "    for b in range(5):\n",
    "         for c in range(5):\n",
    "             image_grid[5*b+c] = ax[b][c].imshow(np.squeeze(np.zeros((16,16,3))),vmin=0,vmax=1,interpolation=\"nearest\")\n",
    "             ax[b][c].set_axis_off()\n",
    "    return image_grid\n",
    "\n",
    "def animate(i):\n",
    "    for b in range(5):\n",
    "         for c in range(5):\n",
    "             scaled_image = np.squeeze(data[5*b+c,i]) \n",
    "             image_grid[5*b+c].set_array(scaled_image)\n",
    "    return image_grid\n",
    "\n",
    "save = False\n",
    "show = True\n",
    "anim = animation.FuncAnimation(fig,animate,init_func=initAnimation,frames=np.shape(data)[1],interval=int(1000./25),blit=True)\n",
    "if save:\n",
    "    anim.save(fname+\".mp4\")\n",
    "if show:\n",
    "    plt.show()\n",
    "        \n"
   ]
  }
 ],
 "metadata": {
  "kernelspec": {
   "display_name": "Python 3",
   "language": "python",
   "name": "python3"
  },
  "language_info": {
   "codemirror_mode": {
    "name": "ipython",
    "version": 3
   },
   "file_extension": ".py",
   "mimetype": "text/x-python",
   "name": "python",
   "nbconvert_exporter": "python",
   "pygments_lexer": "ipython3",
   "version": "3.6.0"
  }
 },
 "nbformat": 4,
 "nbformat_minor": 2
}
